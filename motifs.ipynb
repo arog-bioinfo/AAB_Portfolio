{
 "cells": [
  {
   "cell_type": "markdown",
   "metadata": {},
   "source": [
    "## Algoritmo Exaustivo"
   ]
  },
  {
   "cell_type": "code",
   "execution_count": 1,
   "metadata": {},
   "outputs": [],
   "source": [
    "def proximo(offset, num_seqs, limite):\n",
    "    pos = 0\n",
    "\n",
    "    while pos < num_seqs:\n",
    "        offset[pos] +=1\n",
    "\n",
    "        if offset[pos] < limite:\n",
    "            return offset\n",
    "\n",
    "        offset[pos] = 0\n",
    "        pos += 1\n",
    "\n",
    "def enumerar(num_seqs,tam_seqs,tam_motifs,):\n",
    "    estado = [0] * num_seqs\n",
    "    limite = tam_seqs - tam_motifs + 1\n",
    "\n",
    "    while estado is not None:\n",
    "        yield tuple(estado)\n",
    "        estado = proximo(estado, num_seqs, limite)\n",
    "\n",
    "def score(seqs, offset, tam_motif):\n",
    "    snips = [s[p: p + tam_motif] for p,s in zip(offset, seqs)]\n",
    "    return sum(max([col.count(x) for x in col]) for col in zip(*snips))\n",
    "\n",
    "def motif(seqs, num_seqs, tam_seq, tam_motif):\n",
    "\n",
    "    assert all(len(s) == tam_seq for s in seqs)\n",
    "    \n",
    "    maior_s = 0\n",
    "    for estado in enumerar(num_seqs, tam_seq, tam_motif):\n",
    "        atual = score(seqs, estado, tam_motif)\n",
    "        if atual > maior_s:\n",
    "            melhor_pos = estado\n",
    "            maior_s = atual\n",
    "\n",
    "    return (melhor_pos, maior_s)"
   ]
  },
  {
   "cell_type": "code",
   "execution_count": 2,
   "metadata": {},
   "outputs": [
    {
     "data": {
      "text/plain": [
       "((3, 2, 2), 8)"
      ]
     },
     "execution_count": 2,
     "metadata": {},
     "output_type": "execute_result"
    }
   ],
   "source": [
    "seqs = \"ATGGTCGC TTGTCTGA CCGTAGTA\".split()\n",
    "motif(seqs, 3, 8, 3)"
   ]
  },
  {
   "cell_type": "code",
   "execution_count": 3,
   "metadata": {},
   "outputs": [
    {
     "data": {
      "text/plain": [
       "((1, 0, 3, 4, 5, 2, 2, 0), 21)"
      ]
     },
     "execution_count": 3,
     "metadata": {},
     "output_type": "execute_result"
    }
   ],
   "source": [
    "seqs = \"ATGGTCGC TTGTCTGA CCGTAGTA ATGCTAGC ATGGGTAG AGTAGCGC GGTAGATG TATATAAG\".split()\n",
    "motif(seqs, 8, 8, 3)"
   ]
  },
  {
   "cell_type": "code",
   "execution_count": 9,
   "metadata": {},
   "outputs": [
    {
     "ename": "KeyboardInterrupt",
     "evalue": "",
     "output_type": "error",
     "traceback": [
      "\u001b[0;31m---------------------------------------------------------------------------\u001b[0m",
      "\u001b[0;31mKeyboardInterrupt\u001b[0m                         Traceback (most recent call last)",
      "Cell \u001b[0;32mIn[9], line 6\u001b[0m\n\u001b[1;32m      1\u001b[0m seqs \u001b[38;5;241m=\u001b[39m \u001b[38;5;124m\"\"\"\u001b[39m\u001b[38;5;124mcctgatagacgctatctggctatccacgtacgtaggtcctctgtgcgaatctatgcgtttccaaccat\u001b[39m\n\u001b[1;32m      2\u001b[0m \u001b[38;5;124magtactggtgtacatttgatacgtacgtacaccggcaacctgaaacaaacgctcagaaccagaagtgc\u001b[39m\n\u001b[1;32m      3\u001b[0m \u001b[38;5;124maaacgtacgtgcaccctctttcttcgtggctctggccaacgagggctgatgtataagacgaaaatttt\u001b[39m\n\u001b[1;32m      4\u001b[0m \u001b[38;5;124magcctccgatgtaagtcatagctgtaactattacctgccacccctattacatcttacgtacgtataca\u001b[39m\n\u001b[1;32m      5\u001b[0m \u001b[38;5;124mctgttatacaacgcgtcatggcggggtatgcgttttggtcgtcgtacgctcgatcgttaacgtacgtc\u001b[39m\u001b[38;5;124m\"\"\"\u001b[39m\u001b[38;5;241m.\u001b[39msplitlines()\n\u001b[0;32m----> 6\u001b[0m \u001b[43mmotif\u001b[49m\u001b[43m(\u001b[49m\u001b[43mseqs\u001b[49m\u001b[43m,\u001b[49m\u001b[43m \u001b[49m\u001b[38;5;241;43m5\u001b[39;49m\u001b[43m,\u001b[49m\u001b[43m \u001b[49m\u001b[38;5;28;43mlen\u001b[39;49m\u001b[43m(\u001b[49m\u001b[43mseqs\u001b[49m\u001b[43m[\u001b[49m\u001b[38;5;241;43m0\u001b[39;49m\u001b[43m]\u001b[49m\u001b[43m)\u001b[49m\u001b[43m,\u001b[49m\u001b[43m \u001b[49m\u001b[38;5;241;43m8\u001b[39;49m\u001b[43m)\u001b[49m\n",
      "Cell \u001b[0;32mIn[1], line 31\u001b[0m, in \u001b[0;36mmotif\u001b[0;34m(seqs, num_seqs, tam_seq, tam_motif)\u001b[0m\n\u001b[1;32m     29\u001b[0m maior_s \u001b[38;5;241m=\u001b[39m \u001b[38;5;241m0\u001b[39m\n\u001b[1;32m     30\u001b[0m \u001b[38;5;28;01mfor\u001b[39;00m estado \u001b[38;5;129;01min\u001b[39;00m enumerar(num_seqs, tam_seq, tam_motif):\n\u001b[0;32m---> 31\u001b[0m     atual \u001b[38;5;241m=\u001b[39m \u001b[43mscore\u001b[49m\u001b[43m(\u001b[49m\u001b[43mseqs\u001b[49m\u001b[43m,\u001b[49m\u001b[43m \u001b[49m\u001b[43mestado\u001b[49m\u001b[43m,\u001b[49m\u001b[43m \u001b[49m\u001b[43mtam_motif\u001b[49m\u001b[43m)\u001b[49m\n\u001b[1;32m     32\u001b[0m     \u001b[38;5;28;01mif\u001b[39;00m atual \u001b[38;5;241m>\u001b[39m maior_s:\n\u001b[1;32m     33\u001b[0m         melhor_pos \u001b[38;5;241m=\u001b[39m estado\n",
      "Cell \u001b[0;32mIn[1], line 23\u001b[0m, in \u001b[0;36mscore\u001b[0;34m(seqs, offset, tam_motif)\u001b[0m\n\u001b[1;32m     21\u001b[0m \u001b[38;5;28;01mdef\u001b[39;00m\u001b[38;5;250m \u001b[39m\u001b[38;5;21mscore\u001b[39m(seqs, offset, tam_motif):\n\u001b[1;32m     22\u001b[0m     snips \u001b[38;5;241m=\u001b[39m [s[p: p \u001b[38;5;241m+\u001b[39m tam_motif] \u001b[38;5;28;01mfor\u001b[39;00m p,s \u001b[38;5;129;01min\u001b[39;00m \u001b[38;5;28mzip\u001b[39m(offset, seqs)]\n\u001b[0;32m---> 23\u001b[0m     \u001b[38;5;28;01mreturn\u001b[39;00m \u001b[38;5;28;43msum\u001b[39;49m\u001b[43m(\u001b[49m\u001b[38;5;28;43mmax\u001b[39;49m\u001b[43m(\u001b[49m\u001b[43m[\u001b[49m\u001b[43mcol\u001b[49m\u001b[38;5;241;43m.\u001b[39;49m\u001b[43mcount\u001b[49m\u001b[43m(\u001b[49m\u001b[43mx\u001b[49m\u001b[43m)\u001b[49m\u001b[43m \u001b[49m\u001b[38;5;28;43;01mfor\u001b[39;49;00m\u001b[43m \u001b[49m\u001b[43mx\u001b[49m\u001b[43m \u001b[49m\u001b[38;5;129;43;01min\u001b[39;49;00m\u001b[43m \u001b[49m\u001b[43mcol\u001b[49m\u001b[43m]\u001b[49m\u001b[43m)\u001b[49m\u001b[43m \u001b[49m\u001b[38;5;28;43;01mfor\u001b[39;49;00m\u001b[43m \u001b[49m\u001b[43mcol\u001b[49m\u001b[43m \u001b[49m\u001b[38;5;129;43;01min\u001b[39;49;00m\u001b[43m \u001b[49m\u001b[38;5;28;43mzip\u001b[39;49m\u001b[43m(\u001b[49m\u001b[38;5;241;43m*\u001b[39;49m\u001b[43msnips\u001b[49m\u001b[43m)\u001b[49m\u001b[43m)\u001b[49m\n",
      "Cell \u001b[0;32mIn[1], line 23\u001b[0m, in \u001b[0;36m<genexpr>\u001b[0;34m(.0)\u001b[0m\n\u001b[1;32m     21\u001b[0m \u001b[38;5;28;01mdef\u001b[39;00m\u001b[38;5;250m \u001b[39m\u001b[38;5;21mscore\u001b[39m(seqs, offset, tam_motif):\n\u001b[1;32m     22\u001b[0m     snips \u001b[38;5;241m=\u001b[39m [s[p: p \u001b[38;5;241m+\u001b[39m tam_motif] \u001b[38;5;28;01mfor\u001b[39;00m p,s \u001b[38;5;129;01min\u001b[39;00m \u001b[38;5;28mzip\u001b[39m(offset, seqs)]\n\u001b[0;32m---> 23\u001b[0m     \u001b[38;5;28;01mreturn\u001b[39;00m \u001b[38;5;28msum\u001b[39m(\u001b[38;5;28mmax\u001b[39m([\u001b[43mcol\u001b[49m\u001b[38;5;241;43m.\u001b[39;49m\u001b[43mcount\u001b[49m\u001b[43m(\u001b[49m\u001b[43mx\u001b[49m\u001b[43m)\u001b[49m \u001b[38;5;28;01mfor\u001b[39;00m x \u001b[38;5;129;01min\u001b[39;00m col]) \u001b[38;5;28;01mfor\u001b[39;00m col \u001b[38;5;129;01min\u001b[39;00m \u001b[38;5;28mzip\u001b[39m(\u001b[38;5;241m*\u001b[39msnips))\n",
      "\u001b[0;31mKeyboardInterrupt\u001b[0m: "
     ]
    }
   ],
   "source": [
    "seqs = \"\"\"cctgatagacgctatctggctatccacgtacgtaggtcctctgtgcgaatctatgcgtttccaaccat\n",
    "agtactggtgtacatttgatacgtacgtacaccggcaacctgaaacaaacgctcagaaccagaagtgc\n",
    "aaacgtacgtgcaccctctttcttcgtggctctggccaacgagggctgatgtataagacgaaaatttt\n",
    "agcctccgatgtaagtcatagctgtaactattacctgccacccctattacatcttacgtacgtataca\n",
    "ctgttatacaacgcgtcatggcggggtatgcgttttggtcgtcgtacgctcgatcgttaacgtacgtc\"\"\".splitlines()\n",
    "motif(seqs, 5, len(seqs[0]), 8)"
   ]
  },
  {
   "cell_type": "markdown",
   "metadata": {},
   "source": [
    "## Algoritmo Branch and Bound"
   ]
  },
  {
   "cell_type": "code",
   "execution_count": null,
   "metadata": {},
   "outputs": [],
   "source": [
    "def score_bb(seqs, offset, tam_motif):\n",
    "    # Extract motifs from sequences based on the given offsets\n",
    "    snips = [s[p: p + tam_motif] for p, s in zip(offset, seqs)]\n",
    "    \n",
    "    # Calculate the score: sum of the highest frequency of any nucleotide/character in each column\n",
    "    return sum(max(col.count(x) for x in set(col)) for col in zip(*snips))\n",
    "\n",
    "def branch_and_bound(offset, num_seqs, limite, tam_motifs, estado_global, seqs, level=0):\n",
    "    \"\"\" Branch and Bound implementation to find the best motif alignment \"\"\"\n",
    "    \n",
    "    # Base case: if all offsets have been filled\n",
    "    if level == num_seqs:  \n",
    "        # Calculate the score for the current motif alignment\n",
    "        atual = score_bb(seqs, offset, tam_motifs)\n",
    "        \n",
    "        # If the current score is better than the global best, update the best score and positions\n",
    "        if atual > estado_global[\"maior_s\"]:\n",
    "            estado_global[\"maior_s\"] = atual\n",
    "            estado_global[\"melhor_pos\"] = offset[:]\n",
    "        else:\n",
    "            return\n",
    "\n",
    "    # Branching: Generate candidates for the current level\n",
    "    for pos in range(limite):\n",
    "        offset[level] = pos  # Set the current offset for this sequence\n",
    "        \n",
    "        # Calculate the partial score with the new offset configuration\n",
    "        atual = score_bb(seqs, offset[:level+1], tam_motifs)\n",
    "\n",
    "        # Bounding: If the maximum possible score for this branch is still better than the global best, explore it\n",
    "        limite_superior = atual + (num_seqs - level - 1) * tam_motifs\n",
    "        \n",
    "        # If the upper bound of this branch is greater than the current best score, recurse further\n",
    "        if limite_superior > estado_global[\"maior_s\"]:\n",
    "            branch_and_bound(offset, num_seqs, limite, tam_motifs, estado_global, seqs, level+1)\n",
    "\n",
    "def motif_bb(seqs, num_seqs, tam_seq, tam_motif):\n",
    "    \"\"\" Function to start the Branch and Bound search for the best motif alignment \"\"\"\n",
    "    \n",
    "    # Ensure all sequences are of the expected length\n",
    "    assert all(len(s) == tam_seq for s in seqs)\n",
    "\n",
    "    # Initialize the global state: store the best score and positions\n",
    "    estado_global = {\"maior_s\": 0, \"melhor_pos\": None}\n",
    "    \n",
    "    # Initialize the list of offsets (start at position 0 for each sequence)\n",
    "    offset = [0] * num_seqs\n",
    "    \n",
    "    # Calculate the limit for valid offset values (based on sequence length and motif length)\n",
    "    limite = tam_seq - tam_motif + 1\n",
    "\n",
    "    # Start the Branch and Bound process\n",
    "    branch_and_bound(offset, num_seqs, limite, tam_motif, estado_global, seqs)\n",
    "\n",
    "    # Return the best motif positions and the corresponding score found\n",
    "    return estado_global[\"melhor_pos\"], estado_global[\"maior_s\"]"
   ]
  },
  {
   "cell_type": "code",
   "execution_count": 5,
   "metadata": {},
   "outputs": [
    {
     "data": {
      "text/plain": [
       "([3, 2, 2], 8)"
      ]
     },
     "execution_count": 5,
     "metadata": {},
     "output_type": "execute_result"
    }
   ],
   "source": [
    "seqs = \"ATGGTCGC TTGTCTGA CCGTAGTA\".split()\n",
    "motif_bb(seqs, 3, 8, 3)"
   ]
  },
  {
   "cell_type": "code",
   "execution_count": 8,
   "metadata": {},
   "outputs": [
    {
     "data": {
      "text/plain": [
       "([25, 20, 2, 55, 59], 40)"
      ]
     },
     "execution_count": 8,
     "metadata": {},
     "output_type": "execute_result"
    }
   ],
   "source": [
    "seqs = \"\"\"cctgatagacgctatctggctatccacgtacgtaggtcctctgtgcgaatctatgcgtttccaaccat\n",
    "agtactggtgtacatttgatacgtacgtacaccggcaacctgaaacaaacgctcagaaccagaagtgc\n",
    "aaacgtacgtgcaccctctttcttcgtggctctggccaacgagggctgatgtataagacgaaaatttt\n",
    "agcctccgatgtaagtcatagctgtaactattacctgccacccctattacatcttacgtacgtataca\n",
    "ctgttatacaacgcgtcatggcggggtatgcgttttggtcgtcgtacgctcgatcgttaacgtacgtc\"\"\".splitlines()\n",
    "motif_bb(seqs, 5, len(seqs[0]), 8)"
   ]
  },
  {
   "cell_type": "markdown",
   "metadata": {},
   "source": [
    "## Gibbs Sampling - Método Heurístico Estocástico"
   ]
  },
  {
   "cell_type": "markdown",
   "metadata": {},
   "source": [
    "Code for PWM"
   ]
  },
  {
   "cell_type": "code",
   "execution_count": null,
   "metadata": {},
   "outputs": [],
   "source": [
    "# Função para criar uma tabela de contagens de nucleótidos ou aminoácidos em cada posição\n",
    "def tabela_contagens(seqs, alfabeto=\"ACGT\", pseudocontagem=0):\n",
    "    \"\"\"\n",
    "    Cria uma tabela de contagens para um conjunto de sequências.\n",
    "\n",
    "    Args:\n",
    "        seqs: Lista de sequências alinhadas.\n",
    "        alfabeto: Conjunto de caracteres válidos (ex.: \"ACGT\" para DNA).\n",
    "        pseudocontagem: Valor a ser somado às contagens reais (para evitar zeros).\n",
    "\n",
    "    Returns:\n",
    "        Lista de dicionários, onde cada dicionário contém as contagens dos caracteres\n",
    "        do alfabeto em uma posição específica.\n",
    "    \"\"\"\n",
    "    # `zip(*seqs)` alinha os caracteres por posição entre todas as sequências\n",
    "    return [{b: occ.count(b) + pseudocontagem for b in alfabeto} for occ in zip(*seqs)]\n",
    "\n",
    "# Função para calcular a Matriz de Pesos Posicionais (PWM)\n",
    "def pwm(seqs, tipo=\"DNA\", pseudocontagem=0):\n",
    "    \"\"\"\n",
    "    Calcula a PWM para um conjunto de sequências alinhadas.\n",
    "\n",
    "    Args:\n",
    "        seqs: Lista de sequências alinhadas.\n",
    "        tipo: Tipo de sequência (\"DNA\" ou \"PROTEIN\").\n",
    "        pseudocontagem: Valor a ser somado às contagens reais.\n",
    "\n",
    "    Returns:\n",
    "        Lista de dicionários representando a PWM, onde cada dicionário contém\n",
    "        as probabilidades normalizadas para cada posição.\n",
    "    \"\"\"\n",
    "    # Verifica se todas as sequências têm o mesmo tamanho\n",
    "    assert all(len(seqs[0]) == len(s) for s in seqs), \"As sequências não têm todas o mesmo tamanho!\"\n",
    "    \n",
    "    # Define o alfabeto com base no tipo de sequência\n",
    "    tipo = tipo.upper()\n",
    "    assert tipo in \"DNA PROTEIN\".split(), f\"Tipo {tipo} inválido!\"\n",
    "    alfabeto = \"ACGT\" if tipo == \"DNA\" else \"ARNDCQEGHILKMFPSTWYVBZX_\"\n",
    "\n",
    "    # Cria a tabela de contagens com pseudocontagens\n",
    "    tabela = tabela_contagens(seqs, alfabeto=alfabeto, pseudocontagem=pseudocontagem)\n",
    "\n",
    "    # L: Número de sequências (linhas), A: Tamanho do alfabeto\n",
    "    L = len(seqs[0])\n",
    "    A = len(alfabeto)\n",
    "\n",
    "    # Normaliza as contagens para calcular probabilidades\n",
    "    return [{k: v / (L + A * pseudocontagem) for k, v in linha.items()} for linha in tabela]\n",
    "\n",
    "# Função para imprimir a PWM com valores arredondados\n",
    "def imprime_pwm(pwm, casas_decimais=2):\n",
    "    \"\"\"\n",
    "    Arredonda os valores de uma PWM para o número de casas decimais especificado.\n",
    "\n",
    "    Args:\n",
    "        pwm: PWM gerada pela função `pwm`.\n",
    "        casas_decimais: Número de casas decimais para arredondar os valores.\n",
    "\n",
    "    Returns:\n",
    "        Lista de dicionários com os valores arredondados.\n",
    "    \"\"\"\n",
    "    return [{k: round(v, casas_decimais) for k, v in linha.items()} for linha in pwm]\n",
    "\n",
    "# Função para calcular a probabilidade de gerar uma sequência a partir da PWM\n",
    "def prob_gerar_sequencia(seq, pwm):\n",
    "    \"\"\"\n",
    "    Calcula a probabilidade de gerar uma sequência específica com base em uma PWM.\n",
    "\n",
    "    Args:\n",
    "        seq: Sequência a ser avaliada.\n",
    "        pwm: Matriz de Pesos Posicionais.\n",
    "\n",
    "    Returns:\n",
    "        Probabilidade da sequência dada ocorrer.\n",
    "    \"\"\"\n",
    "    assert len(seq) == len(pwm), \"O tamanho da sequência e da PWM devem ser iguais!\"\n",
    "\n",
    "    prob = 1\n",
    "    # Multiplica as probabilidades de cada posição\n",
    "    for letra, coluna in zip(seq, pwm):\n",
    "        prob *= coluna[letra]\n",
    "    return prob\n",
    "\n",
    "# Função para encontrar a subsequência mais provável em uma sequência maior\n",
    "def seq_mais_provavel(seq, pwm):\n",
    "    \"\"\"\n",
    "    Encontra a subsequência mais provável em uma sequência com base na PWM.\n",
    "\n",
    "    Args:\n",
    "        seq: Sequência maior onde a subsequência será procurada.\n",
    "        pwm: Matriz de Pesos Posicionais.\n",
    "\n",
    "    Returns:\n",
    "        Lista de subsequências que têm a maior probabilidade.\n",
    "    \"\"\"\n",
    "    import re\n",
    "    assert len(seq) >= len(pwm), \"O tamanho da sequência deve ser maior ou igual ao da PWM!\"\n",
    "    \n",
    "    L = len(pwm)  # Comprimento do motif\n",
    "\n",
    "    # Define um padrão que extrai subsequências de comprimento L\n",
    "    R = '.' * L\n",
    "    probs = {}\n",
    "\n",
    "    # Calcula as probabilidades de todas as subsequências possíveis\n",
    "    for s in re.findall(f'(?=({R}))', seq):\n",
    "        probs[s] = prob_gerar_sequencia(s, pwm)\n",
    "\n",
    "    # Encontra a maior probabilidade e retorna as subsequências que a possuem\n",
    "    maior_prob = max(probs.values())\n",
    "    return sorted(set([k for k, v in probs.items() if v >= maior_prob]))"
   ]
  },
  {
   "cell_type": "markdown",
   "metadata": {},
   "source": [
    "Code for Gibbs Sampling "
   ]
  },
  {
   "cell_type": "code",
   "execution_count": null,
   "metadata": {},
   "outputs": [],
   "source": [
    "def gibbs_samp(seqs, num_seqs, tam_seq, tam_motif):\n",
    "    \n",
    "    assert all(len(s) == tam_seq for s in seqs)"
   ]
  },
  {
   "cell_type": "markdown",
   "metadata": {},
   "source": [
    "### Unit testing\n",
    "\n",
    "função a gerar pedaço de dna\n",
    "\n",
    "fazer teste à mão\n",
    "\n",
    "ingetar sequencia do teste à mão aos pedaços de dna\n",
    "\n",
    "opcional: mudar nulceotido da sequencia ingetada para não ser biased"
   ]
  }
 ],
 "metadata": {
  "kernelspec": {
   "display_name": "localhub",
   "language": "python",
   "name": "python3"
  },
  "language_info": {
   "codemirror_mode": {
    "name": "ipython",
    "version": 3
   },
   "file_extension": ".py",
   "mimetype": "text/x-python",
   "name": "python",
   "nbconvert_exporter": "python",
   "pygments_lexer": "ipython3",
   "version": "3.12.9"
  }
 },
 "nbformat": 4,
 "nbformat_minor": 2
}
